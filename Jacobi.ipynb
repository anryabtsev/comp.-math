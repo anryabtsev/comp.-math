{
 "cells": [
  {
   "cell_type": "code",
   "execution_count": 6,
   "metadata": {},
   "outputs": [],
   "source": [
    "from pprint import pprint\n",
    "import numpy as np\n",
    "\n",
    "def method_Jacobi(A, b, Iterations):\n",
    "                                                                                                                                                       \n",
    "    x = np.zeros(len(A[0]))\n",
    "                                                                                                                                                                   \n",
    "    D = np.diag(A)\n",
    "    L_plus_R = A - np.diagflat(D)\n",
    "                                                                                                                                                                           \n",
    "    for i in range(Iterations):\n",
    "        old_x = x\n",
    "        xn = (b - np.dot(L_plus_R,x)) / D\n",
    "        x = xn\n",
    "    \n",
    "    # Точность определяем в упрощённой форме: ||x_(k+1) - x_(k)|| \n",
    "    # и считаем количество нулей до первой ненулевой цифры\n",
    "    epsilon = str(max(np.abs(xn - old_x)))\n",
    "    j = 0\n",
    "    while epsilon[j] == '0':\n",
    "        if j == 0:\n",
    "            j = j + 2\n",
    "        else:\n",
    "            j = j + 1\n",
    "    if j >= 2:\n",
    "        j = j - 1\n",
    "        \n",
    "    return [x, j]"
   ]
  },
  {
   "cell_type": "code",
   "execution_count": 3,
   "metadata": {},
   "outputs": [],
   "source": [
    "A = np.array([[10,1,-2],[1,-5,1],[3,-1,2]])\n",
    "b = np.array([10,10,-5])"
   ]
  },
  {
   "cell_type": "code",
   "execution_count": 7,
   "metadata": {},
   "outputs": [
    {
     "name": "stdout",
     "output_type": "stream",
     "text": [
      "A:\n",
      "array([[10,  1, -2],\n",
      "       [ 1, -5,  1],\n",
      "       [ 3, -1,  2]])\n",
      "b:\n",
      "array([10, 10, -5])\n",
      "x:\n",
      "array([ 0.4344, -2.7858, -4.466 ])\n",
      "Гарантировано верных знаков: 1\n"
     ]
    }
   ],
   "source": [
    "sol = method_Jacobi(A,b,Iterations=5)\n",
    "\n",
    "print(\"A:\")\n",
    "pprint(A)\n",
    "\n",
    "print(\"b:\")\n",
    "pprint(b)\n",
    "\n",
    "print(\"x:\")\n",
    "pprint(sol[0])\n",
    "\n",
    "print(f\"Гарантировано верных знаков: {sol[1]}\")"
   ]
  }
 ],
 "metadata": {
  "kernelspec": {
   "display_name": "Python 3",
   "language": "python",
   "name": "python3"
  },
  "language_info": {
   "codemirror_mode": {
    "name": "ipython",
    "version": 3
   },
   "file_extension": ".py",
   "mimetype": "text/x-python",
   "name": "python",
   "nbconvert_exporter": "python",
   "pygments_lexer": "ipython3",
   "version": "3.6.3"
  }
 },
 "nbformat": 4,
 "nbformat_minor": 2
}
