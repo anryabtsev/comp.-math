{
 "cells": [
  {
   "cell_type": "markdown",
   "metadata": {},
   "source": [
    "# Solving nonlinear equations and systems. Task IV.12.4(b). Anton Ryabtsev. DCAM MIPT."
   ]
  },
  {
   "cell_type": "markdown",
   "metadata": {},
   "source": [
    "The equation is: $$3x + 4x^3 - 12x^2 - 5 = 0.$$\n",
    "\n",
    "We should localize the roots of the equation and refine them using a suitable iterative method."
   ]
  },
  {
   "cell_type": "code",
   "execution_count": 1,
   "metadata": {},
   "outputs": [],
   "source": [
    "import matplotlib.pyplot as plt\n",
    "import numpy as np"
   ]
  },
  {
   "cell_type": "code",
   "execution_count": 2,
   "metadata": {},
   "outputs": [
    {
     "data": {
      "image/png": "[encoded data removed]",
      "text/plain": [
       "<matplotlib.figure.Figure at 0x7dd8b70>"
      ]
     },
     "metadata": {},
     "output_type": "display_data"
    }
   ],
   "source": [
    "plt.figure(1)\n",
    "\n",
    "plt.subplot(121)\n",
    "\n",
    "x = np.arange(-5.0, 5.0, 0.01)\n",
    "\n",
    "def f(t):\n",
    "    return 3*t + 4*t**3 - 12*t**2 - 5\n",
    "\n",
    "plt.plot(x, f(x), 'b-', x, np.zeros(len(x)), 'k-', np.zeros(len(x)), 10*x, 'k-')\n",
    "\n",
    "plt.annotate('y', xy=(0, 20), xytext=(0, 15),\n",
    "            arrowprops=dict(facecolor='black', shrink=0.5),\n",
    "            )\n",
    "plt.annotate('', xy=(5.0,0), xytext=(4.9, 0),\n",
    "            arrowprops=dict(facecolor='black', shrink=0.5),\n",
    "            )\n",
    "plt.text(4.4, 1, r'x')\n",
    "\n",
    "plt.xlim(-5,5)\n",
    "plt.ylim(-20,20)\n",
    "plt.grid(True)\n",
    "\n",
    "plt.subplot(122)\n",
    "plt.plot(x, f(x), 'b-', x, np.zeros(len(x)), 'k-', np.zeros(len(x)), 10*x, 'k-')\n",
    "\n",
    "\n",
    "plt.annotate('', xy=(4.0,0), xytext=(3.9, 0),\n",
    "            arrowprops=dict(facecolor='black', shrink=0.5),\n",
    "            )\n",
    "plt.text(3.4, 1, r'x')\n",
    "\n",
    "plt.xlim(0,4)\n",
    "plt.ylim(-20,20)\n",
    "plt.grid(True)\n",
    "\n",
    "plt.show()"
   ]
  },
  {
   "cell_type": "markdown",
   "metadata": {},
   "source": [
    "We localized the root of the equation $$3x + 4x^3 - 12x^2 - 5 = 0.$$\n",
    "\n",
    "We note that Newton's method is not appropriate here, because in this case, finding the appropriate first approximation is a task no more trivial than the main one.\n",
    "\n",
    "Next we can transform our equation to $$x = 3 + \\frac{5}{4x^2} - \\frac{3}{4x}.$$\n",
    "\n",
    "And now we can consider sequence $x_{n+1} = P(x_n)$, where $$P(x_n) = 3 + \\frac{5}{4x_n^2} - \\frac{3}{4x_n}.$$\n",
    "\n",
    "It is important to notice that $$|P'(x)| = \\left\\lvert{-\\frac{5}{2x^3} + \\frac{3}{4x^2}}\\right\\rvert \\le 1 \\hspace{1cm} \\forall x\\in [2;3]$$\n",
    "\n",
    "That is, the Lipschitz condition is satisfied and the mapping is compressive."
   ]
  },
  {
   "cell_type": "code",
   "execution_count": 3,
   "metadata": {},
   "outputs": [
    {
     "data": {
      "image/png": "[encoded data removed]",
      "text/plain": [
       "<matplotlib.figure.Figure at 0x818a400>"
      ]
     },
     "metadata": {},
     "output_type": "display_data"
    }
   ],
   "source": [
    "plt.figure(1)\n",
    "\n",
    "plt.subplot(111)\n",
    "\n",
    "x = np.arange(1.5, 3.5, 0.01)\n",
    "y = [-1.00, -0.75, -0.50, -0.25, 0, 0.25, 0.50, 0.75, 1.00]\n",
    "\n",
    "def f(t):\n",
    "    return -2.5*t**(-3) + 0.75*t**(-2)\n",
    "\n",
    "plt.plot(x, f(x), 'b-', x, np.zeros(len(x)), 'k-', np.zeros(len(x)), 10*x, 'k-', 2*np.ones(len(y)), y, 'r--', 3*np.ones(len(y)), y, 'r--')\n",
    "\n",
    "\n",
    "plt.annotate('', xy=(3.5,0), xytext=(3.49, 0),\n",
    "            arrowprops=dict(facecolor='black', shrink=0.5),\n",
    "            )\n",
    "plt.text(3.42, 0.125, r'x')\n",
    "plt.text(2.3, -0.2, \"P'(x)\")\n",
    "\n",
    "plt.xlim(1.5,3.5)\n",
    "plt.ylim(-1,1)\n",
    "plt.grid(True)\n",
    "plt.show()"
   ]
  },
  {
   "cell_type": "markdown",
   "metadata": {},
   "source": [
    "Simple iteration method converges at any initial approximation."
   ]
  },
  {
   "cell_type": "code",
   "execution_count": 4,
   "metadata": {},
   "outputs": [],
   "source": [
    "def P(t):\n",
    "    return 3 + 1.25 * t**(-2) - 0.75 * t**(-1)\n",
    "\n",
    "def SIM(P, Iterations):\n",
    "                                                                                                                                                       \n",
    "    x = 1\n",
    "                                                                                                                                                                               \n",
    "    for i in range(Iterations):        \n",
    "        x = P(x)        \n",
    "                \n",
    "    return x"
   ]
  },
  {
   "cell_type": "code",
   "execution_count": 5,
   "metadata": {},
   "outputs": [
    {
     "name": "stdout",
     "output_type": "stream",
     "text": [
      "The root of the equation is approximately:    2.8901\n"
     ]
    }
   ],
   "source": [
    "print(f'The root of the equation is approximately:    {round(SIM(P, 10), 4)}')"
   ]
  }
 ],
 "metadata": {
  "kernelspec": {
   "display_name": "Python 3",
   "language": "python",
   "name": "python3"
  },
  "language_info": {
   "codemirror_mode": {
    "name": "ipython",
    "version": 3
   },
   "file_extension": ".py",
   "mimetype": "text/x-python",
   "name": "python",
   "nbconvert_exporter": "python",
   "pygments_lexer": "ipython3",
   "version": "3.6.3"
  }
 },
 "nbformat": 4,
 "nbformat_minor": 2
}
