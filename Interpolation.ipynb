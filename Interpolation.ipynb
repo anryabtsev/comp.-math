{
 "cells": [
  {
   "cell_type": "markdown",
   "metadata": {},
   "source": [
    "# Interpolation. Task VI.9.10. Anton Ryabtsev. DCAM MIPT."
   ]
  },
  {
   "cell_type": "markdown",
   "metadata": {},
   "source": [
    "**Task:** build algebraic interpolant of function **_f(x) = arcsin(x)_** by 5 points with maximum accuracy. Choose interpolation nodes."
   ]
  },
  {
   "cell_type": "code",
   "execution_count": 372,
   "metadata": {},
   "outputs": [],
   "source": [
    "import matplotlib.pyplot as plt\n",
    "import numpy as np"
   ]
  },
  {
   "cell_type": "code",
   "execution_count": 373,
   "metadata": {},
   "outputs": [
    {
     "data": {
      "image/png": "[encoded data removed]",
      "text/plain": [
       "<matplotlib.figure.Figure at 0x98a8b00>"
      ]
     },
     "metadata": {},
     "output_type": "display_data"
    }
   ],
   "source": [
    "plt.figure(1)\n",
    "\n",
    "plt.subplot(111)\n",
    "\n",
    "x = np.arange(-2.0, 2.0, 0.01)\n",
    "budget_x = np.arange(-1.0, 1.0, 0.01)\n",
    "\n",
    "def f(t):\n",
    "    return np.arcsin(t)\n",
    "\n",
    "plt.plot(budget_x, f(budget_x), 'b-', x, np.zeros(len(x)), 'k-', np.zeros(len(x)), 10*x, 'k-')\n",
    "plt.title('f(x) = arcsin(x)')\n",
    "\n",
    "plt.annotate('', xy=(0, 1.5), xytext=(0, 1.4),\n",
    "            arrowprops=dict(facecolor='black', shrink=0.5),\n",
    "            )\n",
    "plt.text(0.1, 1.4, r'y')\n",
    "plt.annotate('', xy=(1.49,0), xytext=(1.48, 0),\n",
    "            arrowprops=dict(facecolor='black', shrink=0.5),\n",
    "            )\n",
    "plt.text(1.4, 0.2, r'x')\n",
    "\n",
    "plt.xlim(-1.5,1.5)\n",
    "plt.ylim(-1.5,1.5)\n",
    "plt.grid(True)\n",
    "\n",
    "\n",
    "plt.show()"
   ]
  },
  {
   "cell_type": "markdown",
   "metadata": {},
   "source": [
    "If we choose zeros of Chebyshev's polynomial, the residual member of the interpolation will be minimal.\n",
    "We should consider the fifth degree Chebyshev's polynomial so that the number of zeros equals the number of nodes (five).\n",
    "\n",
    "The zeroes of Chebyshev's polynomial could be calculated by the formula: $$\\bf{t_k = cos \\frac{2k-1}{2n}\\pi}, \\;\\;\\;k = \\{1, 2, 3, 4, 5\\}$$"
   ]
  },
  {
   "cell_type": "code",
   "execution_count": 377,
   "metadata": {},
   "outputs": [],
   "source": [
    "k = np.array([1, 2, 3, 4, 5])\n",
    "n = 5.0\n",
    "\n",
    "t = np.cos((2*k - 1) * np.pi / (2*n))\n",
    "t = t[::-1]"
   ]
  },
  {
   "cell_type": "code",
   "execution_count": 378,
   "metadata": {},
   "outputs": [
    {
     "name": "stdout",
     "output_type": "stream",
     "text": [
      "\n",
      "The interpolation nodes are:\n",
      "\n",
      "  [-0.9511 -0.5878  0.      0.5878  0.9511]\n"
     ]
    }
   ],
   "source": [
    "print(f'\\nThe interpolation nodes are:\\n\\n  {np.round(list(t), 4)}')"
   ]
  },
  {
   "cell_type": "markdown",
   "metadata": {},
   "source": [
    "Now the auxiliary Lagrange polynomials are introduced:\n",
    "\n",
    "$$l_k(x) = \\dfrac{(x - x_0)\\dots(x - x_{k-1})(x - x_{k+1})\\dots(x - x_n)}{(x_k - x_0)\\dots(x_k - x_{k-1})(x_k - x_{k+1})\\dots(x_k-x_n)}.$$\n",
    "\n",
    "And Lagrange interpolation polynomial:\n",
    "\n",
    "$$P_n(x) = f(x_0)l_0(x) + f(x_1)l_1(x)+\\dots+f(x_n)l_n(x).$$\n",
    "\n",
    "I use __np.polynomial.polynomial.polyfromroots__ for getting polynomial's coefficients from the numerator of _$l_k(x)$_ and I calculate the denominator in the cycle. Finally, I divide coefficients of the $(x - x_0)\\dots(x - x_{k-1})(x - x_{k+1})\\dots(x - x_n)$ polynomial by $(x_k - x_0)\\dots(x_k - x_{k-1})(x_k - x_{k+1})\\dots(x_k-x_n)$ calculated in the cycle."
   ]
  },
  {
   "cell_type": "code",
   "execution_count": 379,
   "metadata": {},
   "outputs": [],
   "source": [
    "l_coefs = []\n",
    "for i in range(len(t)):\n",
    "    l_coef = np.polynomial.polynomial.polyfromroots(np.delete(t,i))\n",
    "    coef = 1\n",
    "    for j in range(len(t)):\n",
    "        if (j != i):\n",
    "            coef = coef * (t[i] - t[j])\n",
    "    l_coef = l_coef / coef    \n",
    "        \n",
    "    l_coefs.append(l_coef)"
   ]
  },
  {
   "cell_type": "markdown",
   "metadata": {},
   "source": [
    "Each _$l_k(x)$_ I multiply by the value of the function in the _k-th_ node:\n",
    "$$f(x_k)l_k(x).$$"
   ]
  },
  {
   "cell_type": "code",
   "execution_count": 380,
   "metadata": {},
   "outputs": [],
   "source": [
    "for i in range(len(l_coefs)):\n",
    "    l_coefs[i] = l_coefs[i] * f(t[i])"
   ]
  },
  {
   "cell_type": "markdown",
   "metadata": {},
   "source": [
    "Finally, I add all $f(x_k)l_k(x)$ to calculate the $P_n(x)$ coefficients. "
   ]
  },
  {
   "cell_type": "code",
   "execution_count": 381,
   "metadata": {},
   "outputs": [],
   "source": [
    "lagrangian_coefs = np.array([0, 0, 0, 0, 0])\n",
    "for i in range(len(l_coefs)):\n",
    "    lagrangian_coefs = lagrangian_coefs + l_coefs[i]"
   ]
  },
  {
   "cell_type": "markdown",
   "metadata": {},
   "source": [
    "Define an algebraic interpolant."
   ]
  },
  {
   "cell_type": "code",
   "execution_count": 382,
   "metadata": {},
   "outputs": [],
   "source": [
    "def poly(x):\n",
    "    lc = lagrangian_coefs\n",
    "    return lc[0] + lc[1]*x + lc[2]*x**2 + lc[3]*x**3 + lc[4]*x**4"
   ]
  },
  {
   "cell_type": "code",
   "execution_count": 383,
   "metadata": {},
   "outputs": [
    {
     "data": {
      "image/png": "[encoded data removed]",
      "text/plain": [
       "<matplotlib.figure.Figure at 0xad72b38>"
      ]
     },
     "metadata": {},
     "output_type": "display_data"
    }
   ],
   "source": [
    "plt.figure(1)\n",
    "\n",
    "plt.subplot(121)\n",
    "\n",
    "x = np.arange(-2.0, 2.0, 0.01)\n",
    "budget_x = np.arange(-1.0, 1.0, 0.01)\n",
    "\n",
    "\n",
    "\n",
    "plt.plot(budget_x, poly(budget_x), 'r-', x, np.zeros(len(x)), 'k-', np.zeros(len(x)), 10*x, 'k-')\n",
    "\n",
    "plt.title('f(x) = poly(x)')\n",
    "\n",
    "plt.annotate('', xy=(0, 1.5), xytext=(0, 1.4),\n",
    "            arrowprops=dict(facecolor='black', shrink=0.5),\n",
    "            )\n",
    "plt.text(0.1, 1.4, r'y')\n",
    "plt.annotate('', xy=(1.49,0), xytext=(1.48, 0),\n",
    "            arrowprops=dict(facecolor='black', shrink=0.5),\n",
    "            )\n",
    "plt.text(1.3, 0.15, r'x')\n",
    "\n",
    "plt.xlim(-1.5,1.5)\n",
    "plt.ylim(-1.5,1.5)\n",
    "plt.grid(True)\n",
    "\n",
    "\n",
    "plt.subplot(122)\n",
    "\n",
    "plt.plot(budget_x, poly(budget_x), 'r-', x, np.zeros(len(x)), 'k-', np.zeros(len(x)), 10*x, 'k-')\n",
    "plt.plot(budget_x, f(budget_x), 'b-', x, np.zeros(len(x)), 'k-', np.zeros(len(x)), 10*x, 'k-')\n",
    "\n",
    "plt.title(\"arcsin(x) with it's poly(x)\")\n",
    "\n",
    "\n",
    "plt.annotate('', xy=(0, 1.5), xytext=(0, 1.4),\n",
    "            arrowprops=dict(facecolor='black', shrink=0.5),\n",
    "            )\n",
    "plt.text(0.1, 1.4, r'y')\n",
    "plt.annotate('', xy=(1.49,0), xytext=(1.48, 0),\n",
    "            arrowprops=dict(facecolor='black', shrink=0.5),\n",
    "            )\n",
    "plt.text(1.3, 0.15, r'x')\n",
    "\n",
    "plt.xlim(-1.5,1.5)\n",
    "plt.ylim(-1.5,1.5)\n",
    "plt.grid(True)\n",
    "\n",
    "\n",
    "plt.show()"
   ]
  }
 ],
 "metadata": {
  "kernelspec": {
   "display_name": "Python 3",
   "language": "python",
   "name": "python3"
  },
  "language_info": {
   "codemirror_mode": {
    "name": "ipython",
    "version": 3
   },
   "file_extension": ".py",
   "mimetype": "text/x-python",
   "name": "python",
   "nbconvert_exporter": "python",
   "pygments_lexer": "ipython3",
   "version": "3.6.3"
  }
 },
 "nbformat": 4,
 "nbformat_minor": 2
}
